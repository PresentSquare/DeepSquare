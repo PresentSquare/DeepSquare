{
  "nbformat": 4,
  "nbformat_minor": 0,
  "metadata": {
    "colab": {
      "name": "rnn-lstm-keras-gcolab.ipynb",
      "version": "0.3.2",
      "views": {},
      "default_view": {},
      "provenance": [],
      "collapsed_sections": []
    },
    "kernelspec": {
      "name": "python3",
      "display_name": "Python 3"
    },
    "accelerator": "GPU"
  },
  "cells": [
    {
      "metadata": {
        "id": "Uq8RAAq489sP",
        "colab_type": "code",
        "colab": {
          "autoexec": {
            "startup": false,
            "wait_interval": 0
          },
          "base_uri": "https://localhost:8080/",
          "height": 34
        },
        "outputId": "ca1f15b6-dbf7-43ad-e0c9-a5c8e2adbc9c",
        "executionInfo": {
          "status": "ok",
          "timestamp": 1530109752175,
          "user_tz": -540,
          "elapsed": 7544,
          "user": {
            "displayName": "nori 86",
            "photoUrl": "https://lh3.googleusercontent.com/a/default-user=s128",
            "userId": "105756036036211467301"
          }
        }
      },
      "cell_type": "code",
      "source": [
        "from keras.datasets import imdb\n",
        "from keras import preprocessing\n",
        "\n",
        "# 特徴量として考慮する単語の数\n",
        "max_features = 10000\n",
        "\n",
        "# データを整数のリストとして読み込む\n",
        "(x_train, y_train), (x_test, y_test) = \\\n",
        "  imdb.load_data(num_words=max_features)\n",
        "\n",
        "# 整数のリストを形状が(samples, max_len)の整数型の2次元テンソルに変換\n",
        "x_train = preprocessing.sequence.pad_sequences(x_train, maxlen=32)\n",
        "x_test = preprocessing.sequence.pad_sequences(x_test, maxlen=32)"
      ],
      "execution_count": 0,
      "outputs": [
        {
          "output_type": "stream",
          "text": [
            "Using TensorFlow backend.\n"
          ],
          "name": "stderr"
        }
      ]
    },
    {
      "metadata": {
        "id": "aJ5EsFai_CEu",
        "colab_type": "code",
        "colab": {
          "autoexec": {
            "startup": false,
            "wait_interval": 0
          }
        }
      },
      "cell_type": "code",
      "source": [
        "from keras.models import Sequential\n",
        "from keras.layers import Flatten, Dense, Embedding, SimpleRNN\n",
        "\n",
        "model = Sequential()\n",
        "\n",
        "model.add(Embedding(max_features, 32))\n",
        "model.add(SimpleRNN(32))\n",
        "model.add(Dense(1, activation='sigmoid'))"
      ],
      "execution_count": 0,
      "outputs": []
    },
    {
      "metadata": {
        "id": "ihpTZ23zCmRE",
        "colab_type": "code",
        "colab": {
          "autoexec": {
            "startup": false,
            "wait_interval": 0
          }
        }
      },
      "cell_type": "code",
      "source": [
        "model.compile(optimizer='rmsprop',\n",
        "             loss='binary_crossentropy',\n",
        "             metrics=['acc'])"
      ],
      "execution_count": 0,
      "outputs": []
    },
    {
      "metadata": {
        "id": "-Akr_H1hCxTU",
        "colab_type": "code",
        "colab": {
          "autoexec": {
            "startup": false,
            "wait_interval": 0
          },
          "base_uri": "https://localhost:8080/",
          "height": 424
        },
        "outputId": "cf2ac1e0-c193-4d3b-a896-96fbe06e0eb4",
        "executionInfo": {
          "status": "ok",
          "timestamp": 1530109916129,
          "user_tz": -540,
          "elapsed": 157516,
          "user": {
            "displayName": "nori 86",
            "photoUrl": "https://lh3.googleusercontent.com/a/default-user=s128",
            "userId": "105756036036211467301"
          }
        }
      },
      "cell_type": "code",
      "source": [
        "model.fit(x_train, y_train, epochs=10, \n",
        "          batch_size=32, validation_split=0.2)"
      ],
      "execution_count": 0,
      "outputs": [
        {
          "output_type": "stream",
          "text": [
            "Train on 20000 samples, validate on 5000 samples\n",
            "Epoch 1/10\n",
            "20000/20000 [==============================] - 16s 819us/step - loss: 0.5709 - acc: 0.6821 - val_loss: 0.4818 - val_acc: 0.7632\n",
            "Epoch 2/10\n",
            "20000/20000 [==============================] - 15s 773us/step - loss: 0.3988 - acc: 0.8190 - val_loss: 0.4779 - val_acc: 0.7716\n",
            "Epoch 3/10\n",
            "  480/20000 [..............................] - ETA: 14s - loss: 0.2969 - acc: 0.8750"
          ],
          "name": "stdout"
        },
        {
          "output_type": "stream",
          "text": [
            "20000/20000 [==============================] - 15s 771us/step - loss: 0.2987 - acc: 0.8759 - val_loss: 0.5168 - val_acc: 0.7586\n",
            "Epoch 4/10\n",
            "20000/20000 [==============================] - 15s 774us/step - loss: 0.1956 - acc: 0.9235 - val_loss: 0.6142 - val_acc: 0.7486\n",
            "Epoch 5/10\n",
            " 7840/20000 [==========>...................] - ETA: 8s - loss: 0.0960 - acc: 0.9699"
          ],
          "name": "stdout"
        },
        {
          "output_type": "stream",
          "text": [
            "20000/20000 [==============================] - 16s 781us/step - loss: 0.1124 - acc: 0.9606 - val_loss: 0.7487 - val_acc: 0.7274\n",
            "Epoch 6/10\n",
            "20000/20000 [==============================] - 16s 781us/step - loss: 0.0618 - acc: 0.9795 - val_loss: 0.8761 - val_acc: 0.7288\n",
            "Epoch 7/10\n",
            " 9312/20000 [============>.................] - ETA: 7s - loss: 0.0270 - acc: 0.9925"
          ],
          "name": "stdout"
        },
        {
          "output_type": "stream",
          "text": [
            "20000/20000 [==============================] - 16s 782us/step - loss: 0.0348 - acc: 0.9899 - val_loss: 0.9981 - val_acc: 0.7282\n",
            "Epoch 8/10\n",
            "20000/20000 [==============================] - 16s 780us/step - loss: 0.0189 - acc: 0.9944 - val_loss: 1.1506 - val_acc: 0.7156\n",
            "Epoch 9/10\n",
            " 9600/20000 [=============>................] - ETA: 7s - loss: 0.0061 - acc: 0.9984"
          ],
          "name": "stdout"
        },
        {
          "output_type": "stream",
          "text": [
            "20000/20000 [==============================] - 16s 779us/step - loss: 0.0089 - acc: 0.9969 - val_loss: 1.3275 - val_acc: 0.7140\n",
            "Epoch 10/10\n",
            "20000/20000 [==============================] - 16s 782us/step - loss: 0.0060 - acc: 0.9984 - val_loss: 1.4624 - val_acc: 0.6968\n"
          ],
          "name": "stdout"
        },
        {
          "output_type": "execute_result",
          "data": {
            "text/plain": [
              "<keras.callbacks.History at 0x7fdb86ba3780>"
            ]
          },
          "metadata": {
            "tags": []
          },
          "execution_count": 4
        }
      ]
    },
    {
      "metadata": {
        "id": "HfAW0iFaFVGF",
        "colab_type": "code",
        "colab": {
          "autoexec": {
            "startup": false,
            "wait_interval": 0
          },
          "base_uri": "https://localhost:8080/",
          "height": 52
        },
        "outputId": "cf8b0798-a5f6-4c76-e3aa-3f77c59099cd",
        "executionInfo": {
          "status": "ok",
          "timestamp": 1530110079056,
          "user_tz": -540,
          "elapsed": 5151,
          "user": {
            "displayName": "nori 86",
            "photoUrl": "https://lh3.googleusercontent.com/a/default-user=s128",
            "userId": "105756036036211467301"
          }
        }
      },
      "cell_type": "code",
      "source": [
        "score = model.evaluate(x_test, y_test, verbose=0)\n",
        "print('Test loss:', score[0])\n",
        "print('Test accuracy:', score[1])"
      ],
      "execution_count": 0,
      "outputs": [
        {
          "output_type": "stream",
          "text": [
            "Test loss: 1.4969478520965576\n",
            "Test accuracy: 0.70132\n"
          ],
          "name": "stdout"
        }
      ]
    },
    {
      "metadata": {
        "id": "qIsytccIC-f0",
        "colab_type": "code",
        "colab": {
          "autoexec": {
            "startup": false,
            "wait_interval": 0
          }
        }
      },
      "cell_type": "code",
      "source": [
        "from keras.layers import LSTM\n",
        "model = Sequential()\n",
        "\n",
        "model.add(Embedding(max_features, 32))\n",
        "model.add(LSTM(32))\n",
        "model.add(Dense(1, activation='sigmoid'))"
      ],
      "execution_count": 0,
      "outputs": []
    },
    {
      "metadata": {
        "id": "dkdwmlXLFCft",
        "colab_type": "code",
        "colab": {
          "autoexec": {
            "startup": false,
            "wait_interval": 0
          }
        }
      },
      "cell_type": "code",
      "source": [
        "model.compile(optimizer='rmsprop',\n",
        "             loss='binary_crossentropy',\n",
        "             metrics=['acc'])"
      ],
      "execution_count": 0,
      "outputs": []
    },
    {
      "metadata": {
        "id": "0f9a2DbHGQcz",
        "colab_type": "code",
        "colab": {
          "autoexec": {
            "startup": false,
            "wait_interval": 0
          },
          "base_uri": "https://localhost:8080/",
          "height": 424
        },
        "outputId": "145bbfbc-50e0-41eb-df0c-c094ebba4fd2",
        "executionInfo": {
          "status": "ok",
          "timestamp": 1530110705249,
          "user_tz": -540,
          "elapsed": 573602,
          "user": {
            "displayName": "nori 86",
            "photoUrl": "https://lh3.googleusercontent.com/a/default-user=s128",
            "userId": "105756036036211467301"
          }
        }
      },
      "cell_type": "code",
      "source": [
        "model.fit(x_train, y_train, epochs=10, \n",
        "          batch_size=32, validation_split=0.2)"
      ],
      "execution_count": 0,
      "outputs": [
        {
          "output_type": "stream",
          "text": [
            "Train on 20000 samples, validate on 5000 samples\n",
            "Epoch 1/10\n",
            "20000/20000 [==============================] - 58s 3ms/step - loss: 0.5177 - acc: 0.7367 - val_loss: 0.4519 - val_acc: 0.7772\n",
            "Epoch 2/10\n",
            " 1120/20000 [>.............................] - ETA: 50s - loss: 0.3913 - acc: 0.8205"
          ],
          "name": "stdout"
        },
        {
          "output_type": "stream",
          "text": [
            "20000/20000 [==============================] - 57s 3ms/step - loss: 0.3960 - acc: 0.8214 - val_loss: 0.4481 - val_acc: 0.7842\n",
            "Epoch 3/10\n",
            " 7296/20000 [=========>....................] - ETA: 34s - loss: 0.3601 - acc: 0.8414"
          ],
          "name": "stdout"
        },
        {
          "output_type": "stream",
          "text": [
            "20000/20000 [==============================] - 57s 3ms/step - loss: 0.3614 - acc: 0.8405 - val_loss: 0.4482 - val_acc: 0.7854\n",
            "Epoch 4/10\n",
            " 9632/20000 [=============>................] - ETA: 27s - loss: 0.3311 - acc: 0.8535"
          ],
          "name": "stdout"
        },
        {
          "output_type": "stream",
          "text": [
            "20000/20000 [==============================] - 57s 3ms/step - loss: 0.3390 - acc: 0.8509 - val_loss: 0.4384 - val_acc: 0.7886\n",
            "Epoch 5/10\n",
            "10528/20000 [==============>...............] - ETA: 25s - loss: 0.3126 - acc: 0.8642"
          ],
          "name": "stdout"
        },
        {
          "output_type": "stream",
          "text": [
            "20000/20000 [==============================] - 57s 3ms/step - loss: 0.3201 - acc: 0.8611 - val_loss: 0.4558 - val_acc: 0.7888\n",
            "Epoch 6/10\n",
            "10848/20000 [===============>..............] - ETA: 24s - loss: 0.2939 - acc: 0.8731"
          ],
          "name": "stdout"
        },
        {
          "output_type": "stream",
          "text": [
            "20000/20000 [==============================] - 57s 3ms/step - loss: 0.3019 - acc: 0.8708 - val_loss: 0.4713 - val_acc: 0.7870\n",
            "Epoch 7/10\n",
            "10976/20000 [===============>..............] - ETA: 24s - loss: 0.2759 - acc: 0.8847"
          ],
          "name": "stdout"
        },
        {
          "output_type": "stream",
          "text": [
            "20000/20000 [==============================] - 57s 3ms/step - loss: 0.2849 - acc: 0.8800 - val_loss: 0.4687 - val_acc: 0.7846\n",
            "Epoch 8/10\n",
            "11040/20000 [===============>..............] - ETA: 24s - loss: 0.2638 - acc: 0.8899"
          ],
          "name": "stdout"
        },
        {
          "output_type": "stream",
          "text": [
            "20000/20000 [==============================] - 57s 3ms/step - loss: 0.2687 - acc: 0.8859 - val_loss: 0.4880 - val_acc: 0.7808\n",
            "Epoch 9/10\n",
            "11072/20000 [===============>..............] - ETA: 23s - loss: 0.2449 - acc: 0.9005"
          ],
          "name": "stdout"
        },
        {
          "output_type": "stream",
          "text": [
            "20000/20000 [==============================] - 57s 3ms/step - loss: 0.2510 - acc: 0.8961 - val_loss: 0.5002 - val_acc: 0.7798\n",
            "Epoch 10/10\n",
            "11008/20000 [===============>..............] - ETA: 23s - loss: 0.2276 - acc: 0.9085"
          ],
          "name": "stdout"
        },
        {
          "output_type": "stream",
          "text": [
            "20000/20000 [==============================] - 57s 3ms/step - loss: 0.2354 - acc: 0.9041 - val_loss: 0.5332 - val_acc: 0.7802\n"
          ],
          "name": "stdout"
        },
        {
          "output_type": "execute_result",
          "data": {
            "text/plain": [
              "<keras.callbacks.History at 0x7fdb3efd24e0>"
            ]
          },
          "metadata": {
            "tags": []
          },
          "execution_count": 8
        }
      ]
    },
    {
      "metadata": {
        "id": "CMnvmByqFFKz",
        "colab_type": "code",
        "colab": {
          "autoexec": {
            "startup": false,
            "wait_interval": 0
          },
          "base_uri": "https://localhost:8080/",
          "height": 52
        },
        "outputId": "9746da9c-0b15-4aa1-aa01-664cba1ee608",
        "executionInfo": {
          "status": "ok",
          "timestamp": 1530110938531,
          "user_tz": -540,
          "elapsed": 16792,
          "user": {
            "displayName": "nori 86",
            "photoUrl": "https://lh3.googleusercontent.com/a/default-user=s128",
            "userId": "105756036036211467301"
          }
        }
      },
      "cell_type": "code",
      "source": [
        "score = model.evaluate(x_test, y_test, verbose=0)\n",
        "print('Test loss:', score[0])\n",
        "print('Test accuracy:', score[1])"
      ],
      "execution_count": 0,
      "outputs": [
        {
          "output_type": "stream",
          "text": [
            "Test loss: 0.5319464878368377\n",
            "Test accuracy: 0.7794\n"
          ],
          "name": "stdout"
        }
      ]
    },
    {
      "metadata": {
        "id": "gwGIhoIPt8ts",
        "colab_type": "code",
        "colab": {
          "autoexec": {
            "startup": false,
            "wait_interval": 0
          }
        }
      },
      "cell_type": "code",
      "source": [
        ""
      ],
      "execution_count": 0,
      "outputs": []
    }
  ]
}